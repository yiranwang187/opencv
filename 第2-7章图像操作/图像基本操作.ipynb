{
 "cells": [
  {
   "cell_type": "markdown",
   "metadata": {},
   "source": [
    "## 图像基本操作"
   ]
  },
  {
   "cell_type": "markdown",
   "metadata": {},
   "source": [
    "#### 环境配置地址：\n",
    "\n",
    "- Anaconda:https://www.anaconda.com/download/\n",
    "\n",
    "- Python_whl:https://www.lfd.uci.edu/~gohlke/pythonlibs/#opencv\n",
    "\n",
    "- eclipse:按照自己的喜好，选择一个能debug就好"
   ]
  },
  {
   "cell_type": "markdown",
   "metadata": {},
   "source": [
    "![title](lena_img.png)"
   ]
  },
  {
   "cell_type": "markdown",
   "metadata": {},
   "source": [
    "每个像素点的值在0-255之间\n",
    "\n",
    "值越小越黑,越大越亮\n",
    "\n",
    "一般彩色图都有颜色通道，如：RGB=(xx,xx,xx)\n",
    "\n",
    "灰度图则没有颜色通道"
   ]
  },
  {
   "cell_type": "markdown",
   "metadata": {},
   "source": [
    "### 数据读取-图像"
   ]
  },
  {
   "cell_type": "markdown",
   "metadata": {},
   "source": [
    "- cv2.IMREAD_COLOR：彩色图像\n",
    "- cv2.IMREAD_GRAYSCALE：灰度图像"
   ]
  },
  {
   "cell_type": "code",
   "execution_count": 3,
   "metadata": {},
   "outputs": [
    {
     "ename": "ModuleNotFoundError",
     "evalue": "No module named 'cv2'",
     "output_type": "error",
     "traceback": [
      "\u001B[1;31m---------------------------------------------------------------------------\u001B[0m",
      "\u001B[1;31mModuleNotFoundError\u001B[0m                       Traceback (most recent call last)",
      "Input \u001B[1;32mIn [3]\u001B[0m, in \u001B[0;36m<cell line: 1>\u001B[1;34m()\u001B[0m\n\u001B[1;32m----> 1\u001B[0m \u001B[38;5;28;01mimport\u001B[39;00m \u001B[38;5;21;01mcv2\u001B[39;00m \u001B[38;5;66;03m#opencv读取的格式是BGR\u001B[39;00m\n\u001B[0;32m      2\u001B[0m \u001B[38;5;66;03m# 所以如果要用其他函数展示opencv读取的图片，最好要转变成相同的格式，如RGB，BGR等}\u001B[39;00m\n\u001B[0;32m      3\u001B[0m \u001B[38;5;28;01mimport\u001B[39;00m \u001B[38;5;21;01mmatplotlib\u001B[39;00m\u001B[38;5;21;01m.\u001B[39;00m\u001B[38;5;21;01mpyplot\u001B[39;00m \u001B[38;5;28;01mas\u001B[39;00m \u001B[38;5;21;01mplt\u001B[39;00m\n",
      "\u001B[1;31mModuleNotFoundError\u001B[0m: No module named 'cv2'"
     ]
    }
   ],
   "source": [
    "import cv2 #opencv读取的格式是BGR\n",
    "# 所以如果要用其他函数展示opencv读取的图片，最好要转变成相同的格式，如RGB，BGR等}\n",
    "import matplotlib.pyplot as plt\n",
    "import numpy as np \n",
    "%matplotlib inline \n",
    "\n",
    "img=cv2.imread('cat.jpg')"
   ]
  },
  {
   "cell_type": "markdown",
   "metadata": {},
   "source": [
    "读取的图像的shape是(h,w,c)\n",
    "* h : 高度\n",
    "* w : 宽度\n",
    "* c : 颜色通道数"
   ]
  },
  {
   "cell_type": "code",
   "execution_count": null,
   "metadata": {},
   "outputs": [],
   "source": [
    "print(img)\n",
    "print(img.shape)\n",
    "print(type(img))"
   ]
  },
  {
   "cell_type": "code",
   "execution_count": null,
   "metadata": {},
   "outputs": [],
   "source": [
    "#图像的显示,也可以创建多个窗口\n",
    "cv2.imshow('image',img) \n",
    "# 等待时间，毫秒级，0表示任意键终止\n",
    "# 如果是1000表示1000毫秒后消失\n",
    "cv2.waitKey(0) \n",
    "cv2.destroyAllWindows()"
   ]
  },
  {
   "cell_type": "code",
   "execution_count": null,
   "metadata": {},
   "outputs": [],
   "source": [
    "def cv_show(name,img):\n",
    "    cv2.imshow(name,img) \n",
    "    cv2.waitKey(0) \n",
    "    cv2.destroyAllWindows()"
   ]
  },
  {
   "cell_type": "code",
   "execution_count": null,
   "metadata": {},
   "outputs": [],
   "source": [
    "img.shape"
   ]
  },
  {
   "cell_type": "code",
   "execution_count": null,
   "metadata": {},
   "outputs": [],
   "source": [
    "# 读取为灰度图\n",
    "img=cv2.imread('cat.jpg',cv2.IMREAD_GRAYSCALE)\n",
    "img"
   ]
  },
  {
   "cell_type": "code",
   "execution_count": null,
   "metadata": {},
   "outputs": [],
   "source": [
    "# 没有颜色通道了！\n",
    "img.shape"
   ]
  },
  {
   "cell_type": "code",
   "execution_count": null,
   "metadata": {},
   "outputs": [],
   "source": [
    "#图像的显示,也可以创建多个窗口\n",
    "cv2.imshow('image',img) \n",
    "# 等待时间，毫秒级，0表示任意键终止\n",
    "cv2.waitKey(10000) \n",
    "cv2.destroyAllWindows()"
   ]
  },
  {
   "cell_type": "code",
   "execution_count": null,
   "metadata": {},
   "outputs": [],
   "source": [
    "#保存\n",
    "cv2.imwrite('mycat.png',img)"
   ]
  },
  {
   "cell_type": "code",
   "execution_count": null,
   "metadata": {},
   "outputs": [],
   "source": [
    "type(img)"
   ]
  },
  {
   "cell_type": "code",
   "execution_count": null,
   "metadata": {},
   "outputs": [],
   "source": [
    "img.size"
   ]
  },
  {
   "cell_type": "code",
   "execution_count": null,
   "metadata": {},
   "outputs": [],
   "source": [
    "img.dtype"
   ]
  },
  {
   "cell_type": "markdown",
   "metadata": {},
   "source": [
    "### 数据读取-视频"
   ]
  },
  {
   "cell_type": "markdown",
   "metadata": {},
   "source": [
    "- cv2.VideoCapture可以捕获摄像头，用数字来控制不同的设备，例如0,1。\n",
    "- 如果是视频文件，直接指定好路径即可。"
   ]
  },
  {
   "cell_type": "code",
   "execution_count": null,
   "metadata": {},
   "outputs": [],
   "source": [
    "vc = cv2.VideoCapture('test.mp4')\n",
    "print(type(vc))"
   ]
  },
  {
   "cell_type": "code",
   "execution_count": null,
   "metadata": {},
   "outputs": [],
   "source": [
    "# 检查是否打开正确\n",
    "if vc.isOpened(): \n",
    "    # vc.read():读取视频的每一帧，类似next(),一帧一帧的读取\n",
    "    # 返回一个bool类型的值：如果可以读取出来则返回True,反之亦然\n",
    "    # 再返回读取出来的帧的图像\n",
    "    oepn, frame = vc.read()\n",
    "else:\n",
    "    open = False"
   ]
  },
  {
   "cell_type": "code",
   "execution_count": null,
   "metadata": {},
   "outputs": [],
   "source": [
    "while open:\n",
    "    ret, frame = vc.read()\n",
    "    # 读到最后退出即可\n",
    "    if frame is None:\n",
    "        break\n",
    "    if ret == True:\n",
    "        # 将每一帧转换为灰度图像\n",
    "        gray = cv2.cvtColor(frame,  cv2.COLOR_BGR2GRAY)\n",
    "        cv2.imshow('result', gray)\n",
    "        # oxFF==27表示按键盘的Esc键\n",
    "        # 就可以退出\n",
    "        if cv2.waitKey(1000) & 0xFF == 27:\n",
    "            break\n",
    "\n",
    "vc.release()\n",
    "cv2.destroyAllWindows()"
   ]
  },
  {
   "cell_type": "markdown",
   "metadata": {},
   "source": [
    "### 截取部分图像数据"
   ]
  },
  {
   "cell_type": "code",
   "execution_count": null,
   "metadata": {},
   "outputs": [],
   "source": [
    "# 读取数据\n",
    "img=cv2.imread('cat.jpg')\n",
    "# 切片\n",
    "cat=img[0:50,0:200] \n",
    "# 展示数据\n",
    "cv_show('cat',cat)"
   ]
  },
  {
   "cell_type": "markdown",
   "metadata": {},
   "source": [
    "### 颜色通道提取"
   ]
  },
  {
   "cell_type": "code",
   "execution_count": null,
   "metadata": {},
   "outputs": [],
   "source": [
    "b,g,r=cv2.split(img)\n",
    "#也可以用最笨的方法\n",
    "b1,g1,r1=img[:,:,0],img[:,:,1],img[:,:,2]"
   ]
  },
  {
   "cell_type": "code",
   "execution_count": null,
   "metadata": {},
   "outputs": [],
   "source": [
    "r"
   ]
  },
  {
   "cell_type": "code",
   "execution_count": null,
   "metadata": {},
   "outputs": [],
   "source": [
    "r1"
   ]
  },
  {
   "cell_type": "code",
   "execution_count": null,
   "metadata": {},
   "outputs": [],
   "source": [
    "r.shape"
   ]
  },
  {
   "cell_type": "code",
   "execution_count": null,
   "metadata": {},
   "outputs": [],
   "source": [
    "# 合并，合并回原来的BGR格式的图片\n",
    "img=cv2.merge((b,g,r))\n",
    "img.shape"
   ]
  },
  {
   "cell_type": "code",
   "execution_count": null,
   "metadata": {},
   "outputs": [],
   "source": [
    "# 只保留R\n",
    "cur_img = img.copy()\n",
    "cur_img[:,:,0] = 0\n",
    "cur_img[:,:,1] = 0\n",
    "cv_show('R',cur_img)"
   ]
  },
  {
   "cell_type": "code",
   "execution_count": null,
   "metadata": {},
   "outputs": [],
   "source": [
    "# 只保留G\n",
    "cur_img = img.copy()\n",
    "cur_img[:,:,0] = 0\n",
    "cur_img[:,:,2] = 0\n",
    "cv_show('G',cur_img)"
   ]
  },
  {
   "cell_type": "code",
   "execution_count": null,
   "metadata": {},
   "outputs": [],
   "source": [
    "# 只保留B\n",
    "cur_img = img.copy()\n",
    "cur_img[:,:,1] = 0\n",
    "cur_img[:,:,2] = 0\n",
    "cv_show('B',cur_img)"
   ]
  },
  {
   "cell_type": "markdown",
   "metadata": {},
   "source": [
    "### 边界填充"
   ]
  },
  {
   "cell_type": "code",
   "execution_count": null,
   "metadata": {},
   "outputs": [],
   "source": [
    "top_size,bottom_size,left_size,right_size = (50,50,50,50)\n",
    "\n",
    "# borderType:表示按照什么格式进行填充\n",
    "replicate = cv2.copyMakeBorder(img, top_size, bottom_size, left_size, right_size, borderType=cv2.BORDER_REPLICATE)\n",
    "reflect = cv2.copyMakeBorder(img, top_size, bottom_size, left_size, right_size,cv2.BORDER_REFLECT)\n",
    "reflect101 = cv2.copyMakeBorder(img, top_size, bottom_size, left_size, right_size, cv2.BORDER_REFLECT_101)\n",
    "wrap = cv2.copyMakeBorder(img, top_size, bottom_size, left_size, right_size, cv2.BORDER_WRAP)\n",
    "constant = cv2.copyMakeBorder(img, top_size, bottom_size, left_size, right_size,cv2.BORDER_CONSTANT, value=255)"
   ]
  },
  {
   "cell_type": "code",
   "execution_count": null,
   "metadata": {},
   "outputs": [],
   "source": [
    "import matplotlib.pyplot as plt\n",
    "plt.subplot(231), plt.imshow(img, 'gray'), plt.title('ORIGINAL')\n",
    "plt.subplot(232), plt.imshow(replicate, 'gray'), plt.title('REPLICATE')\n",
    "plt.subplot(233), plt.imshow(reflect, 'gray'), plt.title('REFLECT')\n",
    "plt.subplot(234), plt.imshow(reflect101, 'gray'), plt.title('REFLECT_101')\n",
    "plt.subplot(235), plt.imshow(wrap, 'gray'), plt.title('WRAP')\n",
    "plt.subplot(236), plt.imshow(constant, 'gray'), plt.title('CONSTANT')\n",
    "\n",
    "plt.show()"
   ]
  },
  {
   "cell_type": "markdown",
   "metadata": {},
   "source": [
    "- BORDER_REPLICATE：复制法，也就是复制最边缘像素。\n",
    "- BORDER_REFLECT：反射法，对感兴趣的图像中的像素在两边进行复制例如：fedcba|abcdefgh|hgfedcb   \n",
    "- BORDER_REFLECT_101：反射法，也就是以最边缘像素为轴，对称，gfedcb|abcdefgh|gfedcba\n",
    "- BORDER_WRAP：外包装法cdefgh|abcdefgh|abcdefg  \n",
    "- BORDER_CONSTANT：常量法，常数值填充。"
   ]
  },
  {
   "cell_type": "markdown",
   "metadata": {},
   "source": [
    "### 数值计算"
   ]
  },
  {
   "cell_type": "code",
   "execution_count": null,
   "metadata": {},
   "outputs": [],
   "source": [
    "img_cat=cv2.imread('cat.jpg')\n",
    "img_dog=cv2.imread('dog.jpg')"
   ]
  },
  {
   "cell_type": "code",
   "execution_count": null,
   "metadata": {},
   "outputs": [],
   "source": [
    "img_cat2= img_cat +10 \n",
    "img_cat[:5,:,0]"
   ]
  },
  {
   "cell_type": "code",
   "execution_count": null,
   "metadata": {},
   "outputs": [],
   "source": [
    "img_cat2[:5,:,0]"
   ]
  },
  {
   "cell_type": "code",
   "execution_count": null,
   "metadata": {},
   "outputs": [],
   "source": [
    "#相当于% 256\n",
    "# 防止超过255，则进行mod运算，防止溢出\n",
    "(img_cat + img_cat2)[:5,:,0] "
   ]
  },
  {
   "cell_type": "code",
   "execution_count": null,
   "metadata": {},
   "outputs": [],
   "source": [
    "# 防止超过255，则进行取上界运算，防止溢出\n",
    "cv2.add(img_cat,img_cat2)[:5,:,0]"
   ]
  },
  {
   "cell_type": "markdown",
   "metadata": {},
   "source": [
    "### 图像融合"
   ]
  },
  {
   "cell_type": "code",
   "execution_count": null,
   "metadata": {},
   "outputs": [],
   "source": [
    "img_cat + img_dog"
   ]
  },
  {
   "cell_type": "code",
   "execution_count": null,
   "metadata": {},
   "outputs": [],
   "source": [
    "img_cat.shape"
   ]
  },
  {
   "cell_type": "code",
   "execution_count": null,
   "metadata": {},
   "outputs": [],
   "source": [
    "# 重新改变图片的大小\n",
    "img_dog = cv2.resize(img_dog, (500, 414))\n",
    "img_dog.shape"
   ]
  },
  {
   "cell_type": "code",
   "execution_count": null,
   "metadata": {},
   "outputs": [],
   "source": [
    "# R = a*x1+b*x2+b\n",
    "# 融合的方式：有权重有偏置\n",
    "res = cv2.addWeighted(img_cat, 0.4, img_dog, 0.6, 0)"
   ]
  },
  {
   "cell_type": "code",
   "execution_count": null,
   "metadata": {},
   "outputs": [],
   "source": [
    "plt.imshow(res)\n",
    "cv_show('融合',res)"
   ]
  },
  {
   "cell_type": "code",
   "execution_count": null,
   "metadata": {},
   "outputs": [],
   "source": [
    "# 重新改变大小，进行比值计算\n",
    "# x4倍，y4倍扩大\n",
    "res = cv2.resize(img, (0, 0), fx=4, fy=4)\n",
    "plt.imshow(res)"
   ]
  },
  {
   "cell_type": "code",
   "execution_count": null,
   "metadata": {},
   "outputs": [],
   "source": [
    "res = cv2.resize(img, (0, 0), fx=1, fy=3)\n",
    "plt.imshow(res)"
   ]
  }
 ],
 "metadata": {
  "kernelspec": {
   "name": "conda-root-py",
   "language": "python",
   "display_name": "Python [conda env:root]"
  },
  "language_info": {
   "codemirror_mode": {
    "name": "ipython",
    "version": 3
   },
   "file_extension": ".py",
   "mimetype": "text/x-python",
   "name": "python",
   "nbconvert_exporter": "python",
   "pygments_lexer": "ipython3",
   "version": "3.6.12"
  }
 },
 "nbformat": 4,
 "nbformat_minor": 2
}